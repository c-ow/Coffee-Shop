{
 "cells": [
  {
   "cell_type": "code",
   "execution_count": null,
   "metadata": {},
   "outputs": [],
   "source": [
    "import pandas as pd, sqlite3\n",
    "con = sqlite3.connect('coffee shop.db')\n",
    "cur = con.cursor()\n",
    "\n",
    "tables = pd.read_html('https://www.ssa.gov/oact/babynames/decades/century.html')[0]\n",
    "male_names = tables['Males']['Name']\n",
    "female_names = tables['Females']['Name']\n",
    "total_names = [male_names[:100], female_names[:100]]\n",
    "total_names = zip(pd.concat(total_names).tolist())\n",
    "cur.executemany('insert into names (name) values (?)', total_names)\n",
    "con.commit()"
   ]
  }
 ],
 "metadata": {
  "kernelspec": {
   "display_name": "Python 3.10.1 64-bit",
   "language": "python",
   "name": "python3"
  },
  "language_info": {
   "codemirror_mode": {
    "name": "ipython",
    "version": 3
   },
   "file_extension": ".py",
   "mimetype": "text/x-python",
   "name": "python",
   "nbconvert_exporter": "python",
   "pygments_lexer": "ipython3",
   "version": "3.10.1"
  },
  "orig_nbformat": 4,
  "vscode": {
   "interpreter": {
    "hash": "e78d0cd716e991781d84b11b19aeeb2bc232e7a15d4f00575aafbb2d77c41fcf"
   }
  }
 },
 "nbformat": 4,
 "nbformat_minor": 2
}
